{
 "cells": [
  {
   "cell_type": "markdown",
   "id": "911fa346",
   "metadata": {},
   "source": [
    "# Q11. Write a python program to find the factorial of a number. "
   ]
  },
  {
   "cell_type": "markdown",
   "id": "52bd4ccb",
   "metadata": {},
   "source": [
    "Answer :"
   ]
  },
  {
   "cell_type": "code",
   "execution_count": 1,
   "id": "8eab7d58",
   "metadata": {},
   "outputs": [
    {
     "name": "stdout",
     "output_type": "stream",
     "text": [
      "Enter a number: 6\n",
      "The factorial of 6 is 720\n"
     ]
    }
   ],
   "source": [
    "n=int(input(\"Enter a number: \"))\n",
    "factorial=1\n",
    "if n < 0:\n",
    "    print(\"Factorial does not exist for negative number\")\n",
    "elif n == 0:\n",
    "    print(\"The factorial of 0 is 1\")\n",
    "else :\n",
    "    for i in range(1,n+1):\n",
    "        factorial=factorial*i\n",
    "    print(\"The factorial of\",n,\"is\",factorial)"
   ]
  },
  {
   "cell_type": "markdown",
   "id": "11c698b4",
   "metadata": {},
   "source": [
    "# Q12.\tWrite a python program to find whether a number is prime or composite. "
   ]
  },
  {
   "cell_type": "markdown",
   "id": "1529d288",
   "metadata": {},
   "source": [
    "Answer :"
   ]
  },
  {
   "cell_type": "code",
   "execution_count": 2,
   "id": "03b85bae",
   "metadata": {},
   "outputs": [
    {
     "name": "stdout",
     "output_type": "stream",
     "text": [
      "Enter any number : 19\n",
      "19 is a Prime number\n"
     ]
    }
   ],
   "source": [
    "num=int(input(\"Enter any number : \"))\n",
    "if num > 1:\n",
    "    for i in range(2,num):\n",
    "        if (num%i) == 0:\n",
    "            print(num, \"is not a Prime number, it's a Composite number\")\n",
    "            break\n",
    "    else :\n",
    "        print(num, \"is a Prime number\")\n",
    "elif num==0 or 1:\n",
    "            print(num, \"is neither Prime nor Composite number\")"
   ]
  },
  {
   "cell_type": "markdown",
   "id": "2631257a",
   "metadata": {},
   "source": [
    "# Q13.\tWrite a python program to check whether a given string is palindrome or not. "
   ]
  },
  {
   "cell_type": "markdown",
   "id": "b42c36fa",
   "metadata": {},
   "source": [
    "Answer :"
   ]
  },
  {
   "cell_type": "code",
   "execution_count": 3,
   "id": "f35f64bc",
   "metadata": {},
   "outputs": [
    {
     "name": "stdout",
     "output_type": "stream",
     "text": [
      "Yes\n"
     ]
    }
   ],
   "source": [
    "def isPalindrome(str):\n",
    "    for i in range(0, int(len(str)/2)):\n",
    "        if str[i] != str[len(str)-i-1]:\n",
    "            return False\n",
    "    return True\n",
    "s=\"civic\"\n",
    "ans = isPalindrome(s)\n",
    "if (ans):\n",
    "    print(\"Yes\")\n",
    "else :\n",
    "    print(\"No\")"
   ]
  },
  {
   "cell_type": "markdown",
   "id": "ba3e3779",
   "metadata": {},
   "source": [
    "# Q14.\tWrite a Python program to get the third side of right-angled triangle from two given sides. "
   ]
  },
  {
   "cell_type": "markdown",
   "id": "85118663",
   "metadata": {},
   "source": [
    "Answer :"
   ]
  },
  {
   "cell_type": "code",
   "execution_count": 5,
   "id": "23923402",
   "metadata": {},
   "outputs": [
    {
     "name": "stdout",
     "output_type": "stream",
     "text": [
      "Base = 8.0\n"
     ]
    }
   ],
   "source": [
    "def pythagoras(perpendicular,base,hypotenuse):\n",
    "    if perpendicular == str(\"x\"):\n",
    "        return (\"Perpendicular = \"+str(((hypotenuse**2)-(base**2))**(1/2)))\n",
    "    elif base == str(\"x\"):\n",
    "        return (\"Base = \"+str(((hypotenuse**2)-(perpendicular**2))**(1/2)))\n",
    "    elif hypotenuse == str(\"x\"):\n",
    "        return (\"Hypotenuse = \"+str(((base**2)+(perpendicular**2))**(1/2)))\n",
    "print(pythagoras(6,'x',10))"
   ]
  },
  {
   "cell_type": "markdown",
   "id": "09b8101a",
   "metadata": {},
   "source": [
    "# Q15.\tWrite a python program to print the frequency of each of the characters present in a given string. "
   ]
  },
  {
   "cell_type": "markdown",
   "id": "972b122d",
   "metadata": {},
   "source": [
    "Answer :"
   ]
  },
  {
   "cell_type": "code",
   "execution_count": 9,
   "id": "a37d0fdf",
   "metadata": {},
   "outputs": [
    {
     "name": "stdout",
     "output_type": "stream",
     "text": [
      "The frequency of each of the characters present in a given string is : {'a': 1, 'b': 1, 'h': 2, 'i': 1, 's': 1, 'e': 1, 'k': 1}\n"
     ]
    }
   ],
   "source": [
    "string=\"abhishek\"\n",
    "frequency={}\n",
    "for i in string:\n",
    "    if i in frequency:\n",
    "        frequency[i]+=1\n",
    "    else :\n",
    "        frequency[i]=1\n",
    "print(\"The frequency of each of the characters present in a given string is :\",frequency)"
   ]
  },
  {
   "cell_type": "code",
   "execution_count": null,
   "id": "2b0c5ed8",
   "metadata": {},
   "outputs": [],
   "source": []
  }
 ],
 "metadata": {
  "kernelspec": {
   "display_name": "Python 3 (ipykernel)",
   "language": "python",
   "name": "python3"
  },
  "language_info": {
   "codemirror_mode": {
    "name": "ipython",
    "version": 3
   },
   "file_extension": ".py",
   "mimetype": "text/x-python",
   "name": "python",
   "nbconvert_exporter": "python",
   "pygments_lexer": "ipython3",
   "version": "3.9.7"
  }
 },
 "nbformat": 4,
 "nbformat_minor": 5
}
